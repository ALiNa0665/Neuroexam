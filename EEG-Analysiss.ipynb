{
 "cells": [
  {
   "cell_type": "markdown",
   "id": "dd5d79c8-5564-453f-969f-aa112152afe9",
   "metadata": {
    "tags": []
   },
   "source": [
    "# EEG Statistics analysis\n"
   ]
  },
  {
   "cell_type": "code",
   "execution_count": 1,
   "id": "6e700f1a-687c-4cfd-a664-05a1740026d2",
   "metadata": {
    "execution": {
     "iopub.execute_input": "2023-06-08T09:46:54.499425Z",
     "iopub.status.busy": "2023-06-08T09:46:54.498653Z",
     "iopub.status.idle": "2023-06-08T09:47:00.639585Z",
     "shell.execute_reply": "2023-06-08T09:47:00.638654Z",
     "shell.execute_reply.started": "2023-06-08T09:46:54.499367Z"
    },
    "tags": []
   },
   "outputs": [
    {
     "name": "stdout",
     "output_type": "stream",
     "text": [
      "Requirement already satisfied: mne in /opt/conda/lib/python3.10/site-packages (1.4.2)\n",
      "Requirement already satisfied: scipy>=1.6.3 in /opt/conda/lib/python3.10/site-packages (from mne) (1.10.1)\n",
      "Requirement already satisfied: pooch>=1.5 in /opt/conda/lib/python3.10/site-packages (from mne) (1.7.0)\n",
      "Requirement already satisfied: decorator in /opt/conda/lib/python3.10/site-packages (from mne) (5.1.1)\n",
      "Requirement already satisfied: tqdm in /opt/conda/lib/python3.10/site-packages (from mne) (4.65.0)\n",
      "Requirement already satisfied: jinja2 in /opt/conda/lib/python3.10/site-packages (from mne) (3.1.2)\n",
      "Requirement already satisfied: matplotlib>=3.4.0 in /opt/conda/lib/python3.10/site-packages (from mne) (3.7.1)\n",
      "Requirement already satisfied: packaging in /opt/conda/lib/python3.10/site-packages (from mne) (23.1)\n",
      "Requirement already satisfied: numpy>=1.15.4 in /opt/conda/lib/python3.10/site-packages (from mne) (1.24.3)\n",
      "Requirement already satisfied: python-dateutil>=2.7 in /opt/conda/lib/python3.10/site-packages (from matplotlib>=3.4.0->mne) (2.8.2)\n",
      "Requirement already satisfied: pillow>=6.2.0 in /opt/conda/lib/python3.10/site-packages (from matplotlib>=3.4.0->mne) (9.5.0)\n",
      "Requirement already satisfied: kiwisolver>=1.0.1 in /opt/conda/lib/python3.10/site-packages (from matplotlib>=3.4.0->mne) (1.4.4)\n",
      "Requirement already satisfied: fonttools>=4.22.0 in /opt/conda/lib/python3.10/site-packages (from matplotlib>=3.4.0->mne) (4.39.4)\n",
      "Requirement already satisfied: contourpy>=1.0.1 in /opt/conda/lib/python3.10/site-packages (from matplotlib>=3.4.0->mne) (1.0.7)\n",
      "Requirement already satisfied: pyparsing>=2.3.1 in /opt/conda/lib/python3.10/site-packages (from matplotlib>=3.4.0->mne) (3.0.9)\n",
      "Requirement already satisfied: cycler>=0.10 in /opt/conda/lib/python3.10/site-packages (from matplotlib>=3.4.0->mne) (0.11.0)\n",
      "Requirement already satisfied: platformdirs>=2.5.0 in /opt/conda/lib/python3.10/site-packages (from pooch>=1.5->mne) (3.5.1)\n",
      "Requirement already satisfied: requests>=2.19.0 in /opt/conda/lib/python3.10/site-packages (from pooch>=1.5->mne) (2.28.2)\n",
      "Requirement already satisfied: MarkupSafe>=2.0 in /opt/conda/lib/python3.10/site-packages (from jinja2->mne) (2.1.2)\n",
      "Requirement already satisfied: six>=1.5 in /opt/conda/lib/python3.10/site-packages (from python-dateutil>=2.7->matplotlib>=3.4.0->mne) (1.16.0)\n",
      "Requirement already satisfied: idna<4,>=2.5 in /opt/conda/lib/python3.10/site-packages (from requests>=2.19.0->pooch>=1.5->mne) (3.4)\n",
      "Requirement already satisfied: urllib3<1.27,>=1.21.1 in /opt/conda/lib/python3.10/site-packages (from requests>=2.19.0->pooch>=1.5->mne) (1.26.15)\n",
      "Requirement already satisfied: charset-normalizer<4,>=2 in /opt/conda/lib/python3.10/site-packages (from requests>=2.19.0->pooch>=1.5->mne) (3.1.0)\n",
      "Requirement already satisfied: certifi>=2017.4.17 in /opt/conda/lib/python3.10/site-packages (from requests>=2.19.0->pooch>=1.5->mne) (2023.5.7)\n"
     ]
    }
   ],
   "source": [
    "# Importing modules\n",
    "import os\n",
    "import pip\n",
    "!python -m pip install mne\n",
    "os.system('python -m pip install scikit-learn')\n",
    "import numpy as np\n",
    "import pandas as pd\n",
    "import mne\n",
    "import scipy\n",
    "from scipy import stats as st\n",
    "import statistics as stats"
   ]
  },
  {
   "cell_type": "code",
   "execution_count": 3,
   "id": "2cd42f21-0f73-49d0-9690-cd6de48879fe",
   "metadata": {
    "execution": {
     "iopub.execute_input": "2023-06-08T09:47:09.088599Z",
     "iopub.status.busy": "2023-06-08T09:47:09.087783Z",
     "iopub.status.idle": "2023-06-08T09:47:09.239538Z",
     "shell.execute_reply": "2023-06-08T09:47:09.238687Z",
     "shell.execute_reply.started": "2023-06-08T09:47:09.088533Z"
    },
    "tags": []
   },
   "outputs": [
    {
     "name": "stdout",
     "output_type": "stream",
     "text": [
      "Reading /work/AlinaMariaNechita#3266/faceword-epo.fif ...\n",
      "    Found the data of interest:\n",
      "        t =    -100.00 ...     700.00 ms\n",
      "        0 CTF compensation matrices available\n",
      "Not setting metadata\n",
      "424 matching events found\n",
      "No baseline correction applied\n",
      "0 projection items activated\n"
     ]
    }
   ],
   "source": [
    "# Loading the epochs object:\n",
    "\n",
    "epochs = mne.read_epochs('faceword-epo.fif')\n",
    "\n",
    "#print(epochs)\n",
    "NegW_epochs = epochs['Word/wNeg']\n",
    "PosW_epochs = epochs['Word/wPos']"
   ]
  },
  {
   "cell_type": "markdown",
   "id": "c5293ec7-eed7-431c-989d-6fe5dbbc8549",
   "metadata": {},
   "source": [
    "## A t-test to investigate the difference in the P1 between positive and negative words."
   ]
  },
  {
   "cell_type": "code",
   "execution_count": 4,
   "id": "d30585aa-8463-4040-8533-4b43074aae2c",
   "metadata": {
    "execution": {
     "iopub.execute_input": "2023-06-08T09:47:11.969421Z",
     "iopub.status.busy": "2023-06-08T09:47:11.968747Z",
     "iopub.status.idle": "2023-06-08T09:47:11.981333Z",
     "shell.execute_reply": "2023-06-08T09:47:11.980468Z",
     "shell.execute_reply.started": "2023-06-08T09:47:11.969363Z"
    },
    "tags": []
   },
   "outputs": [],
   "source": [
    "# Extracting the numerical values of the signal from corresponding channels:\n",
    "\n",
    "NegW_data = NegW_epochs.get_data(picks=['Pz','O1','O2','P3','P4','P8','P7','Oz'], tmin=0.08, tmax=0.12)\n",
    "#print(NegW_data.shape)\n",
    "\n",
    "PosW_data = PosW_epochs.get_data(picks=['Pz','O1','O2','P3','P4','P8','P7','Oz'], tmin=0.08, tmax=0.12)\n",
    "#print(PosW_data.shape)\n"
   ]
  },
  {
   "cell_type": "code",
   "execution_count": 5,
   "id": "50847999-4a70-4c16-a408-6ec6d9848c74",
   "metadata": {
    "execution": {
     "iopub.execute_input": "2023-06-08T09:47:14.784827Z",
     "iopub.status.busy": "2023-06-08T09:47:14.783919Z",
     "iopub.status.idle": "2023-06-08T09:47:14.794821Z",
     "shell.execute_reply": "2023-06-08T09:47:14.793881Z",
     "shell.execute_reply.started": "2023-06-08T09:47:14.784746Z"
    },
    "tags": []
   },
   "outputs": [],
   "source": [
    "# Averaging over the data:\n",
    "\n",
    "NegW_data_mean = np.mean(NegW_data, axis=2)\n",
    "NegW_data_mean = np.mean(NegW_data_mean, axis=1)\n",
    "#print(left_mean.shape)\n",
    "\n",
    "PosW_data_mean = np.mean(PosW_data, axis=2)\n",
    "PosW_data_mean = np.mean(PosW_data_mean, axis=1)"
   ]
  },
  {
   "cell_type": "code",
   "execution_count": 6,
   "id": "b0cd9561-d896-4fb2-8542-23aa2a1e7c30",
   "metadata": {
    "execution": {
     "iopub.execute_input": "2023-06-08T09:47:17.141179Z",
     "iopub.status.busy": "2023-06-08T09:47:17.140351Z",
     "iopub.status.idle": "2023-06-08T09:47:17.151131Z",
     "shell.execute_reply": "2023-06-08T09:47:17.150112Z",
     "shell.execute_reply.started": "2023-06-08T09:47:17.141120Z"
    },
    "tags": []
   },
   "outputs": [
    {
     "data": {
      "text/plain": [
       "Ttest_indResult(statistic=-0.19804525955155544, pvalue=0.8435526994084811)"
      ]
     },
     "execution_count": 6,
     "metadata": {},
     "output_type": "execute_result"
    }
   ],
   "source": [
    "# Performing a t-test:\n",
    "\n",
    "st.ttest_ind(a=PosW_data_mean, b=NegW_data_mean)"
   ]
  }
 ],
 "metadata": {
  "kernelspec": {
   "display_name": "Python 3 ",
   "language": "python",
   "name": "python3"
  },
  "language_info": {
   "codemirror_mode": {
    "name": "ipython",
    "version": 3
   },
   "file_extension": ".py",
   "mimetype": "text/x-python",
   "name": "python",
   "nbconvert_exporter": "python",
   "pygments_lexer": "ipython3",
   "version": "3.10.10"
  }
 },
 "nbformat": 4,
 "nbformat_minor": 5
}
